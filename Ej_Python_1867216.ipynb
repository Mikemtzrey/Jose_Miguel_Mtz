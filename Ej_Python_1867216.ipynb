{
  "nbformat": 4,
  "nbformat_minor": 0,
  "metadata": {
    "colab": {
      "name": "Ej_Python_1867216.ipynb",
      "provenance": [],
      "collapsed_sections": []
    },
    "kernelspec": {
      "name": "python3",
      "display_name": "Python 3"
    },
    "language_info": {
      "name": "python"
    }
  },
  "cells": [
    {
      "cell_type": "markdown",
      "metadata": {
        "id": "XHOjCzfmybmq"
      },
      "source": [
        "Ejercicio 1:\n",
        "Realiza una variable con tu matricula y realiza una secuencia de imprimir con tu nombre y tu matricula concatenados."
      ]
    },
    {
      "cell_type": "code",
      "metadata": {
        "id": "zdV6Je1pykEv"
      },
      "source": [
        "mat = str(input(\"Introduce tu matricula: \" ))\n",
        "name = str(input(\"Introduce tu nombre completo: \"))\n",
        "\n",
        "alumno = mat + ', ' + name\n",
        "print (\"\\n\", alumno)"
      ],
      "execution_count": null,
      "outputs": []
    },
    {
      "cell_type": "markdown",
      "metadata": {
        "id": "wknIjbHGy6gH"
      },
      "source": [
        "Ejercicio 2:\n",
        "Pidiendo el input del usuario pide dos números y crea una pequeña calculadora con los operadores básicos de suma, resta, multiplicación, división, y exponente."
      ]
    },
    {
      "cell_type": "code",
      "metadata": {
        "id": "20HfopmYzEWE"
      },
      "source": [
        "n1 = int(input(\"Introduce el primer numero\"))\n",
        "n2 = int(input(\"Introduce el segundo numero\"))\n",
        "\n",
        "print(\"La suma de los numeros es: \",n1+n2)\n",
        "print(\"La resta de los numeros es: \",n1-n2)\n",
        "print(\"El producto de los numeros es: \",n1*n2)\n",
        "print(\"El cociente de los numeros es: \",n1/n2)\n",
        "print(\"El primer numero elevado al segundo numero es: \",n1**n2,\"El segundo numero elevado al primero numero es: \",n2**n1)"
      ],
      "execution_count": null,
      "outputs": []
    },
    {
      "cell_type": "markdown",
      "metadata": {
        "id": "pydcl8qQ1Zim"
      },
      "source": [
        "Ejercicio 3:\n",
        "Con loop while o for, realiza una lista de 10 numeros multiplos de 3, y después realiza una función de loop que sume todos los números dentro del arreglo."
      ]
    },
    {
      "cell_type": "code",
      "metadata": {
        "id": "py27H2Kt3vXC"
      },
      "source": [
        "suma= 0\n",
        "for i in range(1,11):\n",
        "  print(i*3)\n",
        "  suma=suma+i*3\n",
        "\n",
        "print()\n",
        "print(\"La suma de los numeros es: \",suma)"
      ],
      "execution_count": null,
      "outputs": []
    },
    {
      "cell_type": "markdown",
      "metadata": {
        "id": "FWoLzsHO_kMZ"
      },
      "source": [
        "Ejercicio 4\n",
        "Con una función de if else, revisar si un número es par o es impar.\n",
        "Con una función de if else, revisar si un número es primo o no."
      ]
    },
    {
      "cell_type": "code",
      "metadata": {
        "id": "Hm-F_60x_n46"
      },
      "source": [
        "a = int(input(\"Ingrese el numero a revisar:  \"))\n",
        "##Función para saber si un número es primo o no\n",
        "##https://ellibrodepython.com/numeros-primos-python#:~:text=Para%20determinar%20si%20un%20n%C3%BAmero,es%20primo%20y%20devolvemos%20False%20.\n",
        "print()\n",
        "def es_primo(num):\n",
        "    for n in range(2, num):\n",
        "        if num % n == 0:\n",
        "            print(\"No es primo,\", n, \"es divisor\")\n",
        "            return False\n",
        "    print(\"Es primo\")\n",
        "    return True\n",
        "\n",
        "es_primo(a)\n",
        "\n",
        "print()\n",
        "if a%2==0:\n",
        "  print(\"El numero es par\")\n",
        "else:\n",
        "  print(\"El numero es impar\")"
      ],
      "execution_count": null,
      "outputs": []
    },
    {
      "cell_type": "markdown",
      "metadata": {
        "id": "tqvj0CEUE_xl"
      },
      "source": [
        "Ejercicio 5\n",
        "Utilizando diferentes clases en python, crea una calculadora con los operadores básicos de suma, resta, multiplicación, división, y exponente."
      ]
    },
    {
      "cell_type": "code",
      "metadata": {
        "id": "qSc7xG6PE-FM"
      },
      "source": [
        "print(\"CALCULADORA\")\n",
        "print(\"\\n 1) Suma\\n 2) Resta\\n 3) Multiplicación\\n 4) División\\n 5) Exponente\\n\")\n",
        "op = int(input(\"\\nElige una opcion: \"))\n",
        "\n",
        "x = float(input(\"Introduce el primer número: \"))\n",
        "y = float(input(\"Introduce el segundo número: \"))\n",
        "\n",
        "w=0\n",
        "if op == 1:\n",
        "     w= x+y\n",
        "elif op == 2:    \n",
        "     w= x+y\n",
        "elif op == 3:    \n",
        "     w= x*y\n",
        "elif op == 4:    \n",
        "     w= x/y\n",
        "elif op == 5:    \n",
        "     w= x**y \n",
        "else:\n",
        "    print (\"\\nError, introduce un numero del 1 al 5\")\n",
        "    \n",
        "    \n",
        "print(\"\\nEl resultado de la operación es: \", w)\n"
      ],
      "execution_count": null,
      "outputs": []
    },
    {
      "cell_type": "markdown",
      "metadata": {
        "id": "LIL2-uUbE9Xu"
      },
      "source": [
        "Ejercicio 6\n",
        "\n",
        "Tuplas\n",
        "Crear una variable flotante, integer, boleana y compleja e imprimir el tipo de variable que es.\n",
        "\n",
        "Crear una tupla con valores enteros imprimir el primer y ultimo valor.\n",
        "\n",
        "Añadir 3 valores de string a la tupla.\n",
        "\n",
        "Verificar si una variable existe dentro de la tupla."
      ]
    },
    {
      "cell_type": "code",
      "metadata": {
        "colab": {
          "base_uri": "https://localhost:8080/"
        },
        "id": "YrDvHX8WHQUV",
        "outputId": "72cdce1d-57ab-4d65-fb6e-cd351df28874"
      },
      "source": [
        "f = 8.93\n",
        "print(\"f =\",type(f))\n",
        "i = 4\n",
        "print(\"i =\",type(i))\n",
        "b = False\n",
        "print(\"b =\",type(b))\n",
        "c = 6j\n",
        "print(\"c =\",type(c))\n",
        "\n",
        "print()\n",
        "t1 = (10,21,23,43,19,30,90)\n",
        "print(t1)\n",
        "print()\n",
        "print(\"Primer Valor: \",t1[0],\" y Ultimo valor: \",t1[-1])\n",
        "dir(t1)\n",
        "t1 = t1.__add__(('Que onda','cuando',' es tu cumpleaños',))\n",
        "print(\"\\nTupla con elementos añadidos: \",t1)\n",
        "\n",
        "print(\"¿El valor 10 esta en t1? \",10 in t1)"
      ],
      "execution_count": 58,
      "outputs": [
        {
          "output_type": "stream",
          "text": [
            "f = <class 'float'>\n",
            "i = <class 'int'>\n",
            "b = <class 'bool'>\n",
            "c = <class 'complex'>\n",
            "\n",
            "(10, 21, 23, 43, 19, 30, 90)\n",
            "\n",
            "Primer Valor:  10  y Ultimo valor:  90\n",
            "\n",
            "Tupla con elementos añadidos:  (10, 21, 23, 43, 19, 30, 90, 'Que onda', 'cuando', ' es tu cumpleaños')\n",
            "¿El valor 10 esta en t1?  True\n"
          ],
          "name": "stdout"
        }
      ]
    },
    {
      "cell_type": "markdown",
      "metadata": {
        "id": "Hn4ohZBVIh5L"
      },
      "source": [
        "Ejercicio 7\n",
        "\n",
        "Listas\n",
        "Crear una lista con 40 elementos aleatorios enteros.\n",
        "\n",
        "Con una funcion (def) crear dos listas nuevas a partir de la lista creada por numeros aleatorios, en la cual en una esten los elementos pares, y en la otra los elementos impares.\n",
        "\n",
        "Crear dos variables con la longitud de ambas listas nuevas e imprimir las variables.\n",
        "\n",
        "Ordenar los elementos de la lista par de mayor a menor, y los de la lista impar de menor a mayor.\n",
        "\n",
        "Utilizar al menos cuatro de las funciones de listas en python en la lista original de 40 elementos."
      ]
    },
    {
      "cell_type": "code",
      "metadata": {
        "colab": {
          "base_uri": "https://localhost:8080/"
        },
        "id": "HuwFUB0ZImD4",
        "outputId": "3b52bac2-18c6-4f40-e781-a266d434844b"
      },
      "source": [
        "import random\n",
        "lista = []\n",
        "for i in range (40):\n",
        "    x= random.randint(0,1000)\n",
        "    lista.append(x)\n",
        "\n",
        "def lista_pares(lista):\n",
        "    numpares = []\n",
        "    for n in lista:\n",
        "        if n % 2 == 0:\n",
        "            numpares.append(n)\n",
        "    return numpares \n",
        "\n",
        "def lista_impares(lista):\n",
        "    numimpares = []\n",
        "    for n in lista:\n",
        "        if n % 2 != 0:\n",
        "            numimpares.append(n)\n",
        "    return numimpares \n",
        "    \n",
        "\n",
        "x=lista_pares(lista)\n",
        "y=lista_impares(lista)\n",
        "\n",
        "print(\"\\nLista completa:\\n\", lista)\n",
        "\n",
        "print(\"\\nLa lista con numeros pares es:  \", x)\n",
        "print(\"\\nLa longitud de la lista con numeros pares es:\\n\", len(x))\n",
        "print(\"\\nLa de la lista con numeros pares ordenada de mayor a menor es:\\n\", sorted(x, reverse=True))\n",
        "\n",
        "print(\"\\nLa lista con numeros impares es:  \", y)\n",
        "print(\"\\nLa longitud de la lista con numeros impares es:\\n\", len(y))\n",
        "print(\"\\nLa longitud de la lista con numeros impares de menor a mayor es:\\n\", sorted(y))\n",
        "\n",
        "\n",
        "lista.append(1234567890)\n",
        "lista.reverse()\n",
        "lista.insert(2,99)\n",
        "lista.extend([1,3,5,7,9])\n",
        "\n",
        "print()\n",
        "print(\"Nueva lista:  \", lista)\n"
      ],
      "execution_count": 63,
      "outputs": [
        {
          "output_type": "stream",
          "text": [
            "\n",
            "Lista completa:\n",
            " [59, 45, 33, 548, 27, 983, 58, 475, 18, 933, 708, 874, 631, 927, 388, 875, 670, 261, 574, 850, 271, 399, 427, 918, 96, 483, 77, 117, 197, 844, 339, 742, 495, 257, 264, 442, 750, 214, 974, 974]\n",
            "\n",
            "La lista con numeros pares es:   [548, 58, 18, 708, 874, 388, 670, 574, 850, 918, 96, 844, 742, 264, 442, 750, 214, 974, 974]\n",
            "\n",
            "La longitud de la lista con numeros pares es:\n",
            " 19\n",
            "\n",
            "La de la lista con numeros pares ordenada de mayor a menor es:\n",
            " [974, 974, 918, 874, 850, 844, 750, 742, 708, 670, 574, 548, 442, 388, 264, 214, 96, 58, 18]\n",
            "\n",
            "La lista con numeros impares es:   [59, 45, 33, 27, 983, 475, 933, 631, 927, 875, 261, 271, 399, 427, 483, 77, 117, 197, 339, 495, 257]\n",
            "\n",
            "La longitud de la lista con numeros impares es:\n",
            " 21\n",
            "\n",
            "La longitud de la lista con numeros impares de menor a mayor es:\n",
            " [27, 33, 45, 59, 77, 117, 197, 257, 261, 271, 339, 399, 427, 475, 483, 495, 631, 875, 927, 933, 983]\n",
            "\n",
            "Nueva lista:   [1234567890, 974, 99, 974, 214, 750, 442, 264, 257, 495, 742, 339, 844, 197, 117, 77, 483, 96, 918, 427, 399, 271, 850, 574, 261, 670, 875, 388, 927, 631, 874, 708, 933, 18, 475, 58, 983, 27, 548, 33, 45, 59, 1, 3, 5, 7, 9]\n"
          ],
          "name": "stdout"
        }
      ]
    },
    {
      "cell_type": "markdown",
      "metadata": {
        "id": "YwRV841TK8g_"
      },
      "source": [
        "Ejercicio 8\n",
        "\n",
        "Diccionarios\n",
        "Crear un diccionario de 6 personas que conozcas con su primer nombre y su edad.\n",
        "\n",
        "Crear una lista con los valores de la edad y reacomodar la lista de menor a mayor valor.\n",
        "\n",
        "Usando el diccionario y un loop, imprimir solo los nombres.\n",
        "\n",
        "Añadir dos personas nuevas a tu diccionario, incluyendo edad."
      ]
    },
    {
      "cell_type": "code",
      "metadata": {
        "colab": {
          "base_uri": "https://localhost:8080/"
        },
        "id": "rdbuTOyMLCZR",
        "outputId": "aa028210-8b6b-401a-8d82-bb577e847e80"
      },
      "source": [
        "dict = {\"Mike\":20, \"Tania\": 20, \"Oscar\": 17, \"Dany\":7, \"Joe\":50, \"Nany\": 48}\n",
        "print(dict)\n",
        "print()\n",
        "print(\"Edades de menor a mayor: \", sorted(dict.values()),)\n",
        "\n",
        "print()\n",
        "print(\"Nombres: \\t\")\n",
        "for i in dict: \n",
        "    print(i)\n",
        "print()    \n",
        "\n",
        "dict[\"Gladys\"] = 52\n",
        "dict[\"Denisse\"] = 25\n",
        "\n",
        "print()\n",
        "print()\n",
        "print(\"Nueva lista de nombres: \")\n",
        "print(dict)\n",
        "\n"
      ],
      "execution_count": 71,
      "outputs": [
        {
          "output_type": "stream",
          "text": [
            "{'Mike': 20, 'Tania': 20, 'Oscar': 17, 'Dany': 7, 'Joe': 50, 'Nany': 48}\n",
            "\n",
            "Edades de menor a mayor:  [7, 17, 20, 20, 48, 50]\n",
            "\n",
            "Nombres: \t\n",
            "Mike\n",
            "Tania\n",
            "Oscar\n",
            "Dany\n",
            "Joe\n",
            "Nany\n",
            "\n",
            "\n",
            "\n",
            "Nueva lista de nombres: \n",
            "{'Mike': 20, 'Tania': 20, 'Oscar': 17, 'Dany': 7, 'Joe': 50, 'Nany': 48, 'Gladys': 52, 'Denisse': 25}\n"
          ],
          "name": "stdout"
        }
      ]
    },
    {
      "cell_type": "markdown",
      "metadata": {
        "id": "JgvtoOOCNHJI"
      },
      "source": [
        "Ejercicio 9\n",
        "\n",
        "Sets\n",
        "Crea un set con 100 numeros aleatorios enteros del 1 al 25.\n",
        "\n",
        "Comprueba la longitud de tu set.\n",
        "\n",
        "Crea una lista de 5 numeros aleatorios del 1 al 10 y comprueba si cada valor aparece en el set inicial."
      ]
    },
    {
      "cell_type": "code",
      "metadata": {
        "colab": {
          "base_uri": "https://localhost:8080/"
        },
        "id": "gpaXb-u0NKHN",
        "outputId": "a2dff68f-d8cf-43fa-cda9-d5c887b0cfcf"
      },
      "source": [
        "\n",
        "import random as r\n",
        "lista_100 = []\n",
        "lista_5 = []\n",
        "for i in range(100):\n",
        "    x = r.randint(1,25)\n",
        "    lista_100.append(x)\n",
        "    \n",
        "print(\"Lista de 100 numeros aleatorios: \",lista_100)    \n",
        "set1 = set(lista_100)\n",
        "print()\n",
        "print(\"Set: \",set1)\n",
        "len(set1)\n",
        "print()\n",
        "print(\"Longitud de set: \",len(set1))\n",
        "\n",
        "numero = range(1,10)\n",
        "lista_5 = r.sample(numero,5)\n",
        "print()\n",
        "print(\"Lista de 5 numeros del 1 al 10:\",lista_5)\n",
        "print()\n",
        "for n in lista_5:\n",
        "    if n in set1:\n",
        "        print(\"El número \",n, \" está en el set de 100\")\n",
        "    else:\n",
        "        print(\"El número \",n, \"no está en el set de 100\")"
      ],
      "execution_count": 87,
      "outputs": [
        {
          "output_type": "stream",
          "text": [
            "Lista de 100 numeros aleatorios:  [10, 25, 9, 2, 16, 7, 2, 1, 22, 9, 14, 1, 11, 11, 22, 21, 2, 1, 22, 7, 19, 5, 16, 13, 10, 17, 17, 25, 10, 8, 25, 18, 14, 3, 12, 14, 6, 22, 23, 20, 21, 1, 13, 4, 18, 4, 19, 20, 3, 18, 15, 18, 24, 19, 19, 11, 2, 11, 17, 6, 2, 8, 6, 12, 5, 14, 16, 24, 14, 10, 17, 8, 11, 8, 24, 13, 18, 11, 6, 5, 24, 24, 8, 17, 8, 2, 4, 3, 3, 17, 4, 8, 3, 3, 15, 16, 16, 7, 10, 14]\n",
            "\n",
            "Set:  {1, 2, 3, 4, 5, 6, 7, 8, 9, 10, 11, 12, 13, 14, 15, 16, 17, 18, 19, 20, 21, 22, 23, 24, 25}\n",
            "\n",
            "Longitud de set:  25\n",
            "\n",
            "Lista de 5 numeros del 1 al 10: [2, 6, 4, 5, 3]\n",
            "\n",
            "El número  2  está en el set de 100\n",
            "El número  6  está en el set de 100\n",
            "El número  4  está en el set de 100\n",
            "El número  5  está en el set de 100\n",
            "El número  3  está en el set de 100\n"
          ],
          "name": "stdout"
        }
      ]
    }
  ]
}